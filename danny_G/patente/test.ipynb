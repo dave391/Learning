{
 "cells": [
  {
   "cell_type": "code",
   "execution_count": 1,
   "metadata": {},
   "outputs": [
    {
     "name": "stdout",
     "output_type": "stream",
     "text": [
      "daje!\n"
     ]
    }
   ],
   "source": [
    "eta = int(input('Inserisci la tua età : '))\n",
    "if eta < 0:\n",
    "    print ('come fai ad avere meno di zero anni?')\n",
    "\n",
    "else: \n",
    "    patente = bool(input('Hai la patente? '))\n",
    "    if eta >=18 and patente==True:\n",
    "        print ('daje!')\n",
    "    elif eta >=18 and patente==False:\n",
    "        print ('devi prendere la patente prima')\n",
    "    else : \n",
    "        print ('sei un bimbo, cresci e ripassa')"
   ]
  }
 ],
 "metadata": {
  "kernelspec": {
   "display_name": "Python 3",
   "language": "python",
   "name": "python3"
  },
  "language_info": {
   "codemirror_mode": {
    "name": "ipython",
    "version": 3
   },
   "file_extension": ".py",
   "mimetype": "text/x-python",
   "name": "python",
   "nbconvert_exporter": "python",
   "pygments_lexer": "ipython3",
   "version": "3.10.10"
  },
  "orig_nbformat": 4
 },
 "nbformat": 4,
 "nbformat_minor": 2
}
