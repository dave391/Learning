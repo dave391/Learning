{
 "cells": [
  {
   "cell_type": "code",
   "execution_count": 7,
   "metadata": {},
   "outputs": [
    {
     "ename": "AttributeError",
     "evalue": "'function' object has no attribute 'amountWater'",
     "output_type": "error",
     "traceback": [
      "\u001b[1;31m---------------------------------------------------------------------------\u001b[0m",
      "\u001b[1;31mAttributeError\u001b[0m                            Traceback (most recent call last)",
      "Cell \u001b[1;32mIn[7], line 16\u001b[0m\n\u001b[0;32m     14\u001b[0m         amountWater\u001b[39m=\u001b[39m\u001b[39mround\u001b[39m((water\u001b[39m*\u001b[39mpower),\u001b[39m2\u001b[39m)\n\u001b[0;32m     15\u001b[0m     \u001b[39mreturn\u001b[39;00m (amountWater)\n\u001b[1;32m---> 16\u001b[0m \u001b[39mprint\u001b[39m (howMuchWater\u001b[39m.\u001b[39;49mamountWater)\n",
      "\u001b[1;31mAttributeError\u001b[0m: 'function' object has no attribute 'amountWater'"
     ]
    }
   ],
   "source": [
    "\n",
    "water = input('water ')\n",
    "load = input ('load ')\n",
    "clothes = input ('clothes')\n",
    "\n",
    "def howMuchWater(water, load, clothes):\n",
    "    pow = (clothes-load)\n",
    "    power = pow(1.1, pow)\n",
    "\n",
    "    if (clothes > 2*load):\n",
    "        amountWater='Too much clothes'\n",
    "    elif (clothes < load):\n",
    "        amountWater='Not enough clothes'\n",
    "    else :\n",
    "        amountWater=round((water*power),2)\n",
    "    return (amountWater)\n",
    "print (howMuchWater)\n"
   ]
  },
  {
   "cell_type": "code",
   "execution_count": 6,
   "metadata": {},
   "outputs": [
    {
     "name": "stdout",
     "output_type": "stream",
     "text": [
      "5\n"
     ]
    }
   ],
   "source": [
    "water = input ('water ')\n",
    "print (water)"
   ]
  }
 ],
 "metadata": {
  "kernelspec": {
   "display_name": "Python 3",
   "language": "python",
   "name": "python3"
  },
  "language_info": {
   "codemirror_mode": {
    "name": "ipython",
    "version": 3
   },
   "file_extension": ".py",
   "mimetype": "text/x-python",
   "name": "python",
   "nbconvert_exporter": "python",
   "pygments_lexer": "ipython3",
   "version": "3.10.10"
  },
  "orig_nbformat": 4
 },
 "nbformat": 4,
 "nbformat_minor": 2
}
