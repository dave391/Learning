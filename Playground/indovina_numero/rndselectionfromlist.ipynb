{
 "cells": [
  {
   "cell_type": "code",
   "execution_count": 41,
   "metadata": {},
   "outputs": [],
   "source": [
    "def namegenerator(namelist:list,surnamelist:list):\n",
    "    name = random.choice(namelist)\n",
    "    surname = random.choice(surnamelist)\n",
    "    fakename = name +' '+ surname\n",
    "    return(fakename)\n"
   ]
  },
  {
   "cell_type": "code",
   "execution_count": 42,
   "metadata": {},
   "outputs": [],
   "source": [
    "namelist =['Leonardo','Alessandro','Tommaso','Francesco','Lorenzo','Edoardo','Mattia','Riccardo','Gabriele','Andrea',\n",
    "           'Sofia','Aurora','Giulia','Ginevra','Beatrice','Alice','Vittoria','Emma','Ludovica','Matilde',]\n",
    "surnamelist = ['Marchetti','Martini','Galli','Gatti','Mariani','Ferrara','Santoro','Marini','Bianco','Conte','Serra',]"
   ]
  },
  {
   "cell_type": "code",
   "execution_count": 46,
   "metadata": {},
   "outputs": [
    {
     "name": "stdout",
     "output_type": "stream",
     "text": [
      "Matilde Martini\n",
      "Francesco Serra\n",
      "Giulia Santoro\n",
      "Aurora Bianco\n",
      "Ludovica Ferrara\n",
      "Edoardo Conte\n",
      "Leonardo Santoro\n"
     ]
    }
   ],
   "source": [
    "numname= input('Quanti nomi vuoi generare? ')\n",
    "for i in range(int(numname)):\n",
    "    name=namegenerator(namelist,surnamelist)\n",
    "    print (name)"
   ]
  }
 ],
 "metadata": {
  "kernelspec": {
   "display_name": "Python 3",
   "language": "python",
   "name": "python3"
  },
  "language_info": {
   "codemirror_mode": {
    "name": "ipython",
    "version": 3
   },
   "file_extension": ".py",
   "mimetype": "text/x-python",
   "name": "python",
   "nbconvert_exporter": "python",
   "pygments_lexer": "ipython3",
   "version": "3.10.10"
  },
  "orig_nbformat": 4
 },
 "nbformat": 4,
 "nbformat_minor": 2
}
