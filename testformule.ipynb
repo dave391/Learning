{
 "cells": [
  {
   "cell_type": "code",
   "execution_count": 12,
   "metadata": {},
   "outputs": [
    {
     "name": "stdout",
     "output_type": "stream",
     "text": [
      "Area =  78.54\n",
      "Perimetro =  31.42\n",
      "Area rettangolo =  56.0\n",
      "Perimetro rettangolo=  30.0\n"
     ]
    }
   ],
   "source": [
    "from modulo.formule import calcoli_cerchio as cc, calcoli_rettangolo as cr\n",
    "\n",
    "\n",
    "raggio= float(input('inserisci il raggio del cerchio'))\n",
    "calcolo_area_cerchio,calcolo_perimetro_cerchio=cc(raggio)\n",
    "\n",
    "print('Area = ',round(calcolo_area_cerchio,2))\n",
    "print('Perimetro = ',round(calcolo_perimetro_cerchio,2))\n",
    "\n",
    "base_rettangolo= float(input('inserisci la base del rettangolo'))\n",
    "altezza_rettangolo=float(input('inserisci altezza del rettangolo'))\n",
    "if base_rettangolo>0 and altezza_rettangolo>0:\n",
    "    calcolo_area,calcolo_perimetro=cr(base_rettangolo,altezza_rettangolo)\n",
    "    print('Area rettangolo = ', calcolo_area)\n",
    "    print('Perimetro rettangolo= ',calcolo_perimetro)\n",
    "else:\n",
    "    print('Devi inserire valori maggiori di 0')"
   ]
  },
  {
   "cell_type": "code",
   "execution_count": null,
   "metadata": {},
   "outputs": [],
   "source": []
  }
 ],
 "metadata": {
  "kernelspec": {
   "display_name": "Python 3",
   "language": "python",
   "name": "python3"
  },
  "language_info": {
   "codemirror_mode": {
    "name": "ipython",
    "version": 3
   },
   "file_extension": ".py",
   "mimetype": "text/x-python",
   "name": "python",
   "nbconvert_exporter": "python",
   "pygments_lexer": "ipython3",
   "version": "3.10.10"
  },
  "orig_nbformat": 4
 },
 "nbformat": 4,
 "nbformat_minor": 2
}
