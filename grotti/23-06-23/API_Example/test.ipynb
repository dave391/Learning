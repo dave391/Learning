{
 "cells": [
  {
   "cell_type": "code",
   "execution_count": 31,
   "metadata": {},
   "outputs": [
    {
     "name": "stdout",
     "output_type": "stream",
     "text": [
      "7.0\n"
     ]
    },
    {
     "data": {
      "text/plain": [
       "'Risultato : 7.0'"
      ]
     },
     "execution_count": 31,
     "metadata": {},
     "output_type": "execute_result"
    }
   ],
   "source": [
    "import json\n",
    "import requests\n",
    "\n",
    "num1=3\n",
    "num2=4\n",
    "\n",
    "inputs = {\"num1\": num1, \"num2\": num2}\n",
    "    \n",
    "res = requests.get(url=f\"http://127.0.0.1:8000/sum?num1={num1}&num2={num2}\") #data=json.dumps(inputs))\n",
    "\n",
    "res= res.json()\n",
    "print(res['result'])\n",
    "\n",
    "(f\"Risultato : {res['result']}\")"
   ]
  },
  {
   "cell_type": "code",
   "execution_count": null,
   "metadata": {},
   "outputs": [],
   "source": [
    "url = \"http://localhost:8000/sum\"\n",
    "\n",
    "\n",
    "data = {\n",
    "        \"numero1\": 5,\n",
    "        \"numero2\": 3,\n",
    "        }\n",
    "\n",
    "data_keys = data.keys()\n",
    "response =requests.post(url,\n",
    "                        headers={\"Content-Type\": \"application/json\"},\n",
    "                        data = json.dumps({\"num1\":data['numero1'],\n",
    "                                           \"num2\":data['numero2']})\n",
    "                        )\n",
    "result =response.json()\n",
    "print(response)\n",
    "print(response.text)\n"
   ]
  }
 ],
 "metadata": {
  "kernelspec": {
   "display_name": "Python 3",
   "language": "python",
   "name": "python3"
  },
  "language_info": {
   "codemirror_mode": {
    "name": "ipython",
    "version": 3
   },
   "file_extension": ".py",
   "mimetype": "text/x-python",
   "name": "python",
   "nbconvert_exporter": "python",
   "pygments_lexer": "ipython3",
   "version": "3.10.10"
  },
  "orig_nbformat": 4
 },
 "nbformat": 4,
 "nbformat_minor": 2
}
