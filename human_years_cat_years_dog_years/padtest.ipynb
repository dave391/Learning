{
 "cells": [
  {
   "cell_type": "code",
   "execution_count": null,
   "metadata": {},
   "outputs": [],
   "source": []
  },
  {
   "cell_type": "code",
   "execution_count": 5,
   "metadata": {},
   "outputs": [
    {
     "name": "stdout",
     "output_type": "stream",
     "text": [
      "<class 'int'>\n"
     ]
    }
   ],
   "source": [
    "human_years = input('inserisci gli anni umani : ')\n",
    "# human_years=int(human_years)\n",
    "print (type(int(human_years)))"
   ]
  },
  {
   "cell_type": "code",
   "execution_count": 18,
   "metadata": {},
   "outputs": [
    {
     "name": "stdout",
     "output_type": "stream",
     "text": [
      "5 , 36\n"
     ]
    }
   ],
   "source": [
    "human_years = input('inserisci gli anni umani : ')\n",
    "\n",
    "if (int(human_years)) == 1:\n",
    "    cat_years= 15\n",
    "elif (int(human_years)) == 2:\n",
    "    cat_years= 24\n",
    "else :\n",
    "    cat_years=(int(human_years)-2)*4+(15+9)\n",
    "\n",
    "print (f'{human_years} , {cat_years}')"
   ]
  },
  {
   "cell_type": "code",
   "execution_count": 19,
   "metadata": {},
   "outputs": [
    {
     "name": "stdout",
     "output_type": "stream",
     "text": [
      "<function human_years_cat_years_dog_years at 0x0000023DB34DFE20>\n"
     ]
    }
   ],
   "source": [
    "human_years = input('inserisci gli anni umani : ')\n",
    "\n",
    "def human_years_cat_years_dog_years(human_years):\n",
    "    if (int(human_years)) == 1:\n",
    "        cat_years= 15\n",
    "        dog_years=cat_years\n",
    "    elif (int(human_years)) == 2:\n",
    "        cat_years= 24\n",
    "        dog_years=cat_years\n",
    "    else :\n",
    "        cat_years=(int(human_years)-2)*4+(15+9)\n",
    "        dog_years=(int(human_years)-2)*5+(15+9)\n",
    "    return [0,0,0]\n",
    "\n",
    "#print (f'{human_years} , {cat_years}, {dog_years}')\n",
    "print (human_years_cat_years_dog_years)"
   ]
  }
 ],
 "metadata": {
  "kernelspec": {
   "display_name": "Python 3",
   "language": "python",
   "name": "python3"
  },
  "language_info": {
   "codemirror_mode": {
    "name": "ipython",
    "version": 3
   },
   "file_extension": ".py",
   "mimetype": "text/x-python",
   "name": "python",
   "nbconvert_exporter": "python",
   "pygments_lexer": "ipython3",
   "version": "3.10.10"
  },
  "orig_nbformat": 4
 },
 "nbformat": 4,
 "nbformat_minor": 2
}
