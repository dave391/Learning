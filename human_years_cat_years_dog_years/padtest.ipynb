{
 "cells": [
  {
   "cell_type": "code",
   "execution_count": null,
   "metadata": {},
   "outputs": [],
   "source": []
  },
  {
   "cell_type": "code",
   "execution_count": 5,
   "metadata": {},
   "outputs": [
    {
     "name": "stdout",
     "output_type": "stream",
     "text": [
      "<class 'int'>\n"
     ]
    }
   ],
   "source": [
    "human_years = input('inserisci gli anni umani : ')\n",
    "# human_years=int(human_years)\n",
    "print (type(int(human_years)))"
   ]
  },
  {
   "cell_type": "code",
   "execution_count": 4,
   "metadata": {},
   "outputs": [
    {
     "name": "stdout",
     "output_type": "stream",
     "text": [
      "8 , 48\n"
     ]
    }
   ],
   "source": [
    "human_years = input('inserisci gli anni umani : ')\n",
    "\n",
    "if (int(human_years)) == 1:\n",
    "    cat_years= 15\n",
    "elif (int(human_years)) == 2:\n",
    "    cat_years= 24\n",
    "else :\n",
    "    cat_years=(int(human_years)-2)*4+(15+9)\n",
    "\n",
    "print (f'{human_years} , {cat_years}')"
   ]
  },
  {
   "cell_type": "code",
   "execution_count": 27,
   "metadata": {},
   "outputs": [
    {
     "name": "stdout",
     "output_type": "stream",
     "text": [
      "48\n"
     ]
    }
   ],
   "source": [
    "human_years = input('inserisci gli anni umani : ')\n",
    "\n",
    "def human_years_cat_years_dog_years(human_years:int):\n",
    "    if (int(human_years)) == 1:\n",
    "        cat_years= 15\n",
    "        dog_years=cat_years\n",
    "    elif (int(human_years)) == 2:\n",
    "        cat_years= 24\n",
    "        dog_years=cat_years\n",
    "    else :\n",
    "        cat_years=(int(human_years)-2)*4+(15+9)\n",
    "        dog_years=(int(human_years)-2)*5+(15+9)\n",
    "    return [human_years,cat_years,dog_years]\n",
    "\n",
    "#print (f'{human_years} , {cat_years}, {dog_years}')\n",
    "#human_years_2 = human_years_cat_years_dog_years(human_years)\n",
    "#cat_years = cat_years\n",
    "#dog_years = dog_years\n",
    "\n",
    "print (cat_years)"
   ]
  },
  {
   "cell_type": "code",
   "execution_count": 20,
   "metadata": {},
   "outputs": [
    {
     "name": "stdout",
     "output_type": "stream",
     "text": [
      "secondo\n"
     ]
    }
   ],
   "source": [
    "lista = ['primo','secondo','terzo']\n",
    "print (lista[1])"
   ]
  },
  {
   "cell_type": "code",
   "execution_count": 34,
   "metadata": {},
   "outputs": [
    {
     "name": "stdout",
     "output_type": "stream",
     "text": [
      "[9, 52, 59]\n"
     ]
    }
   ],
   "source": [
    "human_years = input('inserisci gli anni umani : ')\n",
    "\n",
    "def human_years_cat_years_dog_years(human_years):\n",
    "    \n",
    "    if (int(human_years)) == 1:\n",
    "        cat_years= 15\n",
    "        dog_years=cat_years\n",
    "    elif (int(human_years)) == 2:\n",
    "        cat_years= 24\n",
    "        dog_years=cat_years\n",
    "    else :\n",
    "        cat_years=(int(human_years)-2)*4+(15+9)\n",
    "        dog_years=(int(human_years)-2)*5+(15+9) \n",
    "    return [int(human_years),cat_years,dog_years]\n",
    "\n",
    "print(human_years_cat_years_dog_years(human_years))"
   ]
  }
 ],
 "metadata": {
  "kernelspec": {
   "display_name": "Python 3",
   "language": "python",
   "name": "python3"
  },
  "language_info": {
   "codemirror_mode": {
    "name": "ipython",
    "version": 3
   },
   "file_extension": ".py",
   "mimetype": "text/x-python",
   "name": "python",
   "nbconvert_exporter": "python",
   "pygments_lexer": "ipython3",
   "version": "3.9.13"
  },
  "orig_nbformat": 4
 },
 "nbformat": 4,
 "nbformat_minor": 2
}
