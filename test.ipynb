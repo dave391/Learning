{
 "cells": [
  {
   "cell_type": "code",
   "execution_count": 2,
   "metadata": {},
   "outputs": [
    {
     "data": {
      "text/plain": [
       "[4, 4, 4, 4, 4]"
      ]
     },
     "execution_count": 2,
     "metadata": {},
     "output_type": "execute_result"
    }
   ],
   "source": [
    "lista2 =[4]*5\n",
    "lista2"
   ]
  },
  {
   "cell_type": "code",
   "execution_count": 4,
   "metadata": {},
   "outputs": [
    {
     "data": {
      "text/plain": [
       "[4, 4, 4, 4, 4, 1, 3]"
      ]
     },
     "execution_count": 4,
     "metadata": {},
     "output_type": "execute_result"
    }
   ],
   "source": [
    "lista2.append(3)\n",
    "lista2"
   ]
  },
  {
   "cell_type": "code",
   "execution_count": 9,
   "metadata": {},
   "outputs": [
    {
     "data": {
      "text/plain": [
       "[5, 7, 9, 2, 3, 4]"
      ]
     },
     "execution_count": 9,
     "metadata": {},
     "output_type": "execute_result"
    }
   ],
   "source": [
    "listak=[5,7,9]\n",
    "listay=[2,3,4]\n",
    "listak.extend(listay)\n",
    "listak"
   ]
  },
  {
   "cell_type": "code",
   "execution_count": 11,
   "metadata": {},
   "outputs": [
    {
     "data": {
      "text/plain": [
       "[2015, 2016, 2018, 2020]"
      ]
     },
     "execution_count": 11,
     "metadata": {},
     "output_type": "execute_result"
    }
   ],
   "source": [
    "#cancellare elementi della lista\n",
    "anno =[2015,2016,2018,2020,2023]\n",
    "del anno [-1]\n",
    "anno"
   ]
  },
  {
   "cell_type": "code",
   "execution_count": 12,
   "metadata": {},
   "outputs": [
    {
     "data": {
      "text/plain": [
       "[2018, 2020]"
      ]
     },
     "execution_count": 12,
     "metadata": {},
     "output_type": "execute_result"
    }
   ],
   "source": [
    "#start e stop. Start incluso, stop escluso (si ferma prima. es. 1-50 farà realmente 1-49)\n",
    "del anno [0:2]\n",
    "anno"
   ]
  },
  {
   "cell_type": "code",
   "execution_count": 13,
   "metadata": {},
   "outputs": [
    {
     "data": {
      "text/plain": [
       "[2020]"
      ]
     },
     "execution_count": 13,
     "metadata": {},
     "output_type": "execute_result"
    }
   ],
   "source": [
    "#remove elimina elementi specifici con ricerca, non per indice. \n",
    "anno.remove(2018)\n",
    "anno"
   ]
  },
  {
   "cell_type": "code",
   "execution_count": 15,
   "metadata": {},
   "outputs": [
    {
     "data": {
      "text/plain": [
       "[2016, 2018, 2020, 2023]"
      ]
     },
     "execution_count": 15,
     "metadata": {},
     "output_type": "execute_result"
    }
   ],
   "source": [
    "anno =[2015,2016,2018,2020,2023]\n",
    "del anno [0]\n",
    "anno"
   ]
  },
  {
   "cell_type": "code",
   "execution_count": 17,
   "metadata": {},
   "outputs": [
    {
     "data": {
      "text/plain": [
       "[2016, 2018, 2020]"
      ]
     },
     "execution_count": 17,
     "metadata": {},
     "output_type": "execute_result"
    }
   ],
   "source": [
    "del anno [-1]\n",
    "anno"
   ]
  },
  {
   "cell_type": "code",
   "execution_count": 19,
   "metadata": {},
   "outputs": [
    {
     "data": {
      "text/plain": [
       "True"
      ]
     },
     "execution_count": 19,
     "metadata": {},
     "output_type": "execute_result"
    }
   ],
   "source": [
    "anno[2]==anno[-1]"
   ]
  },
  {
   "cell_type": "code",
   "execution_count": 21,
   "metadata": {},
   "outputs": [],
   "source": [
    "primi=[11,13,17,19,23,29,31]"
   ]
  },
  {
   "cell_type": "code",
   "execution_count": 26,
   "metadata": {},
   "outputs": [
    {
     "name": "stdout",
     "output_type": "stream",
     "text": [
      "11\n",
      "13\n",
      "17\n",
      "19\n",
      "23\n",
      "29\n",
      "31\n"
     ]
    }
   ],
   "source": [
    "for pippo in primi:\n",
    "    print(pippo)"
   ]
  },
  {
   "cell_type": "code",
   "execution_count": 27,
   "metadata": {},
   "outputs": [
    {
     "name": "stdout",
     "output_type": "stream",
     "text": [
      "11\n",
      "13\n",
      "17\n",
      "19\n"
     ]
    }
   ],
   "source": [
    "for pippo in primi[0:-3]:\n",
    "    print(pippo)"
   ]
  },
  {
   "cell_type": "code",
   "execution_count": 35,
   "metadata": {},
   "outputs": [
    {
     "data": {
      "text/plain": [
       "[302,\n",
       " 304,\n",
       " 306,\n",
       " 308,\n",
       " 310,\n",
       " 312,\n",
       " 314,\n",
       " 316,\n",
       " 318,\n",
       " 320,\n",
       " 322,\n",
       " 324,\n",
       " 326,\n",
       " 328,\n",
       " 330,\n",
       " 332,\n",
       " 334,\n",
       " 336,\n",
       " 338,\n",
       " 340,\n",
       " 342,\n",
       " 344,\n",
       " 346,\n",
       " 348,\n",
       " 350,\n",
       " 352,\n",
       " 354,\n",
       " 356,\n",
       " 358,\n",
       " 360,\n",
       " 362,\n",
       " 364,\n",
       " 366,\n",
       " 368,\n",
       " 370,\n",
       " 372,\n",
       " 374,\n",
       " 376,\n",
       " 378,\n",
       " 380,\n",
       " 382,\n",
       " 384,\n",
       " 386,\n",
       " 388,\n",
       " 390,\n",
       " 392,\n",
       " 394,\n",
       " 396,\n",
       " 398,\n",
       " 400]"
      ]
     },
     "execution_count": 35,
     "metadata": {},
     "output_type": "execute_result"
    }
   ],
   "source": [
    "lista_numerica =list(range(400,300,-2))\n",
    "(lista_numerica.sort())\n",
    "lista_numerica"
   ]
  },
  {
   "cell_type": "code",
   "execution_count": 36,
   "metadata": {},
   "outputs": [
    {
     "data": {
      "text/plain": [
       "[0, 1, 2, 3, 4, 5, 6, 7, 8, 9, 10]"
      ]
     },
     "execution_count": 36,
     "metadata": {},
     "output_type": "execute_result"
    }
   ],
   "source": [
    "lista2=list(range(0,11,1))\n",
    "lista2"
   ]
  },
  {
   "cell_type": "code",
   "execution_count": 2,
   "metadata": {},
   "outputs": [
    {
     "name": "stdout",
     "output_type": "stream",
     "text": [
      "[0, 1, 2, 3, 4, 5, 6, 7, 8, 9, 10]\n",
      "[0, 1, 4, 9, 16, 25, 36, 49, 64, 81, 100]\n"
     ]
    }
   ],
   "source": [
    "listanumeri= list(range(0,11))\n",
    "print (listanumeri)\n",
    "\n",
    "listaquadrati= list() \n",
    "for n in (listanumeri):\n",
    "    listaquadrati.append(n**2)\n",
    "print(listaquadrati)\n"
   ]
  },
  {
   "cell_type": "code",
   "execution_count": 4,
   "metadata": {},
   "outputs": [
    {
     "name": "stdout",
     "output_type": "stream",
     "text": [
      "[0, 1, 8, 27, 64, 125, 216, 343, 512, 729, 1000]\n"
     ]
    }
   ],
   "source": [
    "cubi=[ n**3 for n in (listanumeri)]\n",
    "print(cubi)"
   ]
  },
  {
   "cell_type": "code",
   "execution_count": 5,
   "metadata": {},
   "outputs": [
    {
     "data": {
      "text/plain": [
       "array(['USA', 'UK', 'Japan'], dtype='<U5')"
      ]
     },
     "execution_count": 5,
     "metadata": {},
     "output_type": "execute_result"
    }
   ],
   "source": [
    "import numpy as np\n",
    "country = np.array(['USA','UK','Japan'])\n",
    "country"
   ]
  },
  {
   "cell_type": "code",
   "execution_count": 8,
   "metadata": {},
   "outputs": [
    {
     "data": {
      "text/plain": [
       "(1, 4)"
      ]
     },
     "execution_count": 8,
     "metadata": {},
     "output_type": "execute_result"
    }
   ],
   "source": [
    "x = np.array ([[2,3,4,0]])\n",
    "x.shape"
   ]
  },
  {
   "cell_type": "code",
   "execution_count": 21,
   "metadata": {},
   "outputs": [
    {
     "name": "stdout",
     "output_type": "stream",
     "text": [
      "(4, 4)\n"
     ]
    },
    {
     "data": {
      "text/plain": [
       "array([['2', '3', '4', '0'],\n",
       "       ['2', '1', '6', '5'],\n",
       "       ['a', 'b', 'c', 'd'],\n",
       "       ['e', 'f', 'g', 'h']], dtype='<U11')"
      ]
     },
     "execution_count": 21,
     "metadata": {},
     "output_type": "execute_result"
    }
   ],
   "source": [
    "y = np.array ([[2,3,4,0],[2,1,6,5],['a','b','c','d'],['e','f','g','h']])\n",
    "print(y.shape)\n",
    "y"
   ]
  },
  {
   "cell_type": "code",
   "execution_count": 22,
   "metadata": {},
   "outputs": [
    {
     "data": {
      "text/plain": [
       "array([[0., 0., 0.],\n",
       "       [0., 0., 0.],\n",
       "       [0., 0., 0.],\n",
       "       [0., 0., 0.],\n",
       "       [0., 0., 0.]])"
      ]
     },
     "execution_count": 22,
     "metadata": {},
     "output_type": "execute_result"
    }
   ],
   "source": [
    "np.zeros((5,3))"
   ]
  },
  {
   "cell_type": "code",
   "execution_count": 23,
   "metadata": {},
   "outputs": [
    {
     "data": {
      "text/plain": [
       "array([2., 3., 4., 5., 6., 7., 8., 9.])"
      ]
     },
     "execution_count": 23,
     "metadata": {},
     "output_type": "execute_result"
    }
   ],
   "source": [
    "np.arange(2,10,dtype=float)"
   ]
  },
  {
   "cell_type": "code",
   "execution_count": 26,
   "metadata": {},
   "outputs": [
    {
     "data": {
      "text/plain": [
       "array([1., 2., 3., 4.])"
      ]
     },
     "execution_count": 26,
     "metadata": {},
     "output_type": "execute_result"
    }
   ],
   "source": [
    "np.linspace(1,4,4)"
   ]
  },
  {
   "cell_type": "code",
   "execution_count": 30,
   "metadata": {},
   "outputs": [
    {
     "data": {
      "text/plain": [
       "array([1., 2., 3., 4.])"
      ]
     },
     "execution_count": 30,
     "metadata": {},
     "output_type": "execute_result"
    }
   ],
   "source": [
    "x=np.array([3,6,9,12])\n",
    "x= x/3\n",
    "x"
   ]
  },
  {
   "cell_type": "code",
   "execution_count": 41,
   "metadata": {},
   "outputs": [
    {
     "name": "stdout",
     "output_type": "stream",
     "text": [
      "sei maggiorenne\n"
     ]
    }
   ],
   "source": [
    "eta = int(input('Inserisci la tua età : '))\n",
    "if eta < 0:\n",
    "    print ('come fai ad avere meno di zero anni?')\n",
    "else:\n",
    "    if eta >=18:\n",
    "        print ('sei maggiorenne')\n",
    "    else:\n",
    "            print ('non puoi entrare')"
   ]
  },
  {
   "cell_type": "code",
   "execution_count": 51,
   "metadata": {},
   "outputs": [
    {
     "name": "stdout",
     "output_type": "stream",
     "text": [
      "devi prendere la patente prima\n"
     ]
    }
   ],
   "source": [
    "eta = int(input('Inserisci la tua età : '))\n",
    "if eta < 0:\n",
    "    print ('come fai ad avere meno di zero anni?')\n",
    "else: \n",
    "    patente = str(input('Hai la patente? '))\n",
    "    if eta >=18 and patente==True:\n",
    "        print ('daje!')\n",
    "    else:\n",
    "        print ('devi prendere la patente prima')"
   ]
  },
  {
   "cell_type": "code",
   "execution_count": 57,
   "metadata": {},
   "outputs": [
    {
     "name": "stdout",
     "output_type": "stream",
     "text": [
      "devi prendere la patente prima\n"
     ]
    }
   ],
   "source": [
    "eta = int(input('Inserisci la tua età : '))\n",
    "if eta < 0:\n",
    "    print ('come fai ad avere meno di zero anni?')\n",
    "elif eta < 18:\n",
    "    print ('sei un bimbo, cresci e ripassa')\n",
    "else: \n",
    "    patente = str(input('Hai la patente? '))\n",
    "    if eta >=18 and patente==True:\n",
    "        print ('daje!')\n",
    "    else:\n",
    "        print ('devi prendere la patente prima')\n",
    "   \n",
    "        "
   ]
  },
  {
   "cell_type": "code",
   "execution_count": 65,
   "metadata": {},
   "outputs": [
    {
     "name": "stdout",
     "output_type": "stream",
     "text": [
      "daje!\n"
     ]
    }
   ],
   "source": [
    "eta = int(input('Inserisci la tua età : '))\n",
    "if eta < 0:\n",
    "    print ('come fai ad avere meno di zero anni?')\n",
    "\n",
    "else: \n",
    "    patente = bool(input('Hai la patente? '))\n",
    "    if eta >=18 and patente==True:\n",
    "        print ('daje!')\n",
    "    elif eta >=18 and patente==False:\n",
    "        print ('devi prendere la patente prima')\n",
    "    else : \n",
    "        print ('sei un bimbo, cresci e ripassa')"
   ]
  },
  {
   "cell_type": "code",
   "execution_count": 80,
   "metadata": {},
   "outputs": [
    {
     "name": "stdout",
     "output_type": "stream",
     "text": [
      "il numero inserito è  5\n",
      "il numero inserito è  1\n",
      "il numero inserito è  101\n",
      "ok, hai inserito il numero  101 maggiore di 100, adesso inserisci una lettera :\n",
      "Inserisci una vocale\n"
     ]
    }
   ],
   "source": [
    "while True:\n",
    "    numero = int(input('inserisci un numero '))\n",
    "    print ('il numero inserito è ', numero)\n",
    "    if numero >=100:\n",
    "        print('ok, hai inserito il numero ',numero, 'maggiore di 100, adesso inserisci una lettera :')\n",
    "        break\n",
    "vocali = ['a','e','i','o','u']\n",
    "lettera=input()\n",
    "while lettera not in vocali:\n",
    "    print('Inserisci una vocale')\n",
    "    break"
   ]
  },
  {
   "cell_type": "code",
   "execution_count": 1,
   "metadata": {},
   "outputs": [
    {
     "name": "stdout",
     "output_type": "stream",
     "text": [
      "bravo \n"
     ]
    }
   ],
   "source": [
    "vocali = ['a','e','i','o','u']\n",
    "while True:\n",
    "    lettera=input('inserisci una lettera: ')\n",
    "    if lettera in vocali:\n",
    "        print('bravo ')\n",
    "        break"
   ]
  },
  {
   "cell_type": "code",
   "execution_count": 3,
   "metadata": {},
   "outputs": [
    {
     "name": "stdout",
     "output_type": "stream",
     "text": [
      "Ciao\n",
      "il mio nome è\n",
      "Davide\n"
     ]
    }
   ],
   "source": [
    "def print_tre_volte():\n",
    "    print('Ciao')\n",
    "    print('il mio nome è')\n",
    "    print('Davide')\n",
    "\n",
    "print_tre_volte()"
   ]
  },
  {
   "cell_type": "code",
   "execution_count": 10,
   "metadata": {},
   "outputs": [
    {
     "name": "stdout",
     "output_type": "stream",
     "text": [
      "questa funzione somma 2 numeri \n",
      "il risultato è  9\n"
     ]
    }
   ],
   "source": [
    "def somma_tra_due_numeri(primo_numero,secondo_numero):\n",
    "    print('questa funzione somma 2 numeri ')\n",
    "    risultato = primo_numero + secondo_numero\n",
    "    print('il risultato è ',str(risultato))\n",
    "\n",
    "somma_tra_due_numeri(int(input()),int(input()))"
   ]
  },
  {
   "cell_type": "code",
   "execution_count": 2,
   "metadata": {},
   "outputs": [
    {
     "name": "stdout",
     "output_type": "stream",
     "text": [
      "questa funzione somma 2 numeri \n",
      "il risultato è  18\n",
      "questa funzione somma 2 numeri \n",
      "il risultato è  18\n",
      "errore\n"
     ]
    }
   ],
   "source": [
    "\n",
    "a= int(input())\n",
    "b= int(input())\n",
    "\n",
    "def somma_tra_due_numeri(primo_numero:int,secondo_numero:int=6):\n",
    "    '''questa funzione somma 2 numeri'''\n",
    "    print('questa funzione somma 2 numeri ')\n",
    "    risultato = primo_numero + secondo_numero\n",
    "    print('il risultato è ',str(risultato*2))\n",
    "    return risultato*2\n",
    "\n",
    "somma_tra_due_numeri(a)\n",
    "\n",
    "if somma_tra_due_numeri(a) == 12:\n",
    "    print ('la somma è corretta')\n",
    "else:\n",
    "    print ('errore')"
   ]
  },
  {
   "cell_type": "code",
   "execution_count": 10,
   "metadata": {},
   "outputs": [
    {
     "name": "stdout",
     "output_type": "stream",
     "text": [
      "Area =  25.0\n",
      "Perimetro =  20.0\n"
     ]
    }
   ],
   "source": [
    "#RETTANGOLO\n",
    "def calcoli_rettangolo(base:float,altezza:float):\n",
    "    '''calcolo perimetro:(return[0]) \n",
    "       calcolo area rettangolo:(return[1])'''\n",
    "    area_rett = base * altezza\n",
    "    perimetro_rett = (base*2) + (altezza*2)\n",
    "    return area_rett,perimetro_rett\n",
    "    \n",
    "\n",
    "base_rettangolo= float(input('inserisci la base del rettangolo'))\n",
    "altezza_rettangolo=float(input('inserisci altezza del rettangolo'))\n",
    "\n",
    "calcoli=calcoli_rettangolo(base_rettangolo,altezza_rettangolo)\n",
    "\n",
    "print('Area = ',calcoli[0])\n",
    "print('Perimetro = ',calcoli[1])\n",
    "\n",
    "\n"
   ]
  },
  {
   "cell_type": "code",
   "execution_count": 19,
   "metadata": {},
   "outputs": [
    {
     "name": "stdout",
     "output_type": "stream",
     "text": [
      "Area =  16.0\n",
      "Perimetro =  16.0\n"
     ]
    }
   ],
   "source": [
    "def calcoli_rettangolo(base:float,altezza:float):\n",
    "    '''calcolo perimetro e area rettangolo'''\n",
    "    area_rett = base * altezza\n",
    "    perimetro_rett = (base*2) + (altezza*2)\n",
    "    return area_rett,perimetro_rett\n",
    "\n",
    "base_rettangolo= float(input('inserisci la base del rettangolo'))\n",
    "altezza_rettangolo=float(input('inserisci altezza del rettangolo'))\n",
    "if base_rettangolo>0 and altezza_rettangolo>0:\n",
    "    calcolo_area,calcolo_perimetro=calcoli_rettangolo(base_rettangolo,altezza_rettangolo)\n",
    "    print('Area = ', calcolo_area)\n",
    "    print('Perimetro = ',calcolo_perimetro)\n",
    "else:\n",
    "    print('Devi inserire valori maggiori di 0')"
   ]
  },
  {
   "cell_type": "code",
   "execution_count": 2,
   "metadata": {},
   "outputs": [
    {
     "name": "stdout",
     "output_type": "stream",
     "text": [
      "Area =  14957.12\n",
      "Perimetro =  433.53978619539146\n"
     ]
    }
   ],
   "source": [
    "import numpy as np\n",
    "\n",
    "def calcoli_cerchio(raggio:float):\n",
    "    '''calcolo perimetro e area cerchio'''\n",
    "    area_cerchio = np.pi * raggio**2\n",
    "    perimetro_cerchio = 2*np.pi*raggio\n",
    "    return area_cerchio,perimetro_cerchio\n",
    "\n",
    "raggio= float(input('inserisci il raggio del cerchio'))\n",
    "\n",
    "calcolo_area_cerchio,calcolo_perimetro_cerchio=calcoli_cerchio(raggio)\n",
    "\n",
    "print('Area = ', round(calcolo_area_cerchio,2))\n",
    "print('Perimetro = ',calcolo_perimetro_cerchio)"
   ]
  },
  {
   "cell_type": "code",
   "execution_count": null,
   "metadata": {},
   "outputs": [],
   "source": [
    "from formule import calcoli_cerchio,calcoli_rettangolo\n",
    "\n",
    "raggio= float(input('inserisci il raggio del cerchio'))"
   ]
  },
  {
   "cell_type": "code",
   "execution_count": 2,
   "metadata": {},
   "outputs": [
    {
     "name": "stdout",
     "output_type": "stream",
     "text": [
      "<__main__.Persona object at 0x00000293518E21A0>\n",
      "Arturo\n"
     ]
    },
    {
     "data": {
      "text/plain": [
       "2"
      ]
     },
     "execution_count": 2,
     "metadata": {},
     "output_type": "execute_result"
    }
   ],
   "source": [
    "class Persona:\n",
    "    def __init__(self,a,b): #attributi __init__(self, ) + sintassi\n",
    "        self.nome = a\n",
    "        self.eta = b\n",
    "arturo = Persona ('Arturo',2)\n",
    "print(arturo)\n",
    "print (arturo.nome) \n",
    "\n",
    "arturo.eta"
   ]
  },
  {
   "cell_type": "code",
   "execution_count": 16,
   "metadata": {},
   "outputs": [
    {
     "name": "stdout",
     "output_type": "stream",
     "text": [
      "4\n"
     ]
    },
    {
     "data": {
      "text/plain": [
       "4"
      ]
     },
     "execution_count": 16,
     "metadata": {},
     "output_type": "execute_result"
    }
   ],
   "source": [
    "class Persona:\n",
    "    def __init__(self,a,b): #attributi __init__(self, ) è sintassi\n",
    "        self.nome = a\n",
    "        self.eta = b\n",
    "    def double (self,x): #metodo\n",
    "        return x*2\n",
    "    def quadratoanni(self): #metodo\n",
    "        return self.eta**2\n",
    "    \n",
    "arturo=Persona('Arturo',2)\n",
    "\n",
    "dd=arturo.double(int(input()))\n",
    "bb=arturo.quadratoanni()\n",
    "\n",
    "print(dd)\n",
    "bb\n"
   ]
  },
  {
   "cell_type": "code",
   "execution_count": 1,
   "metadata": {},
   "outputs": [
    {
     "data": {
      "text/plain": [
       "5"
      ]
     },
     "execution_count": 1,
     "metadata": {},
     "output_type": "execute_result"
    }
   ],
   "source": [
    "(lambda x:x+1)(4)"
   ]
  },
  {
   "cell_type": "code",
   "execution_count": 6,
   "metadata": {},
   "outputs": [
    {
     "data": {
      "text/plain": [
       "10"
      ]
     },
     "execution_count": 6,
     "metadata": {},
     "output_type": "execute_result"
    }
   ],
   "source": [
    "x= input()\n",
    "y=input()\n",
    "(lambda x,y : int(x)+int(y))(x,y)"
   ]
  },
  {
   "cell_type": "code",
   "execution_count": 14,
   "metadata": {},
   "outputs": [
    {
     "data": {
      "text/plain": [
       "[1, 2, 3, 4, 5]"
      ]
     },
     "execution_count": 14,
     "metadata": {},
     "output_type": "execute_result"
    }
   ],
   "source": [
    "(lambda *args: sorted(args))(1,4,5,3,2) #*args quando gli imput sono indefiniti"
   ]
  }
 ],
 "metadata": {
  "kernelspec": {
   "display_name": "Python 3",
   "language": "python",
   "name": "python3"
  },
  "language_info": {
   "codemirror_mode": {
    "name": "ipython",
    "version": 3
   },
   "file_extension": ".py",
   "mimetype": "text/x-python",
   "name": "python",
   "nbconvert_exporter": "python",
   "pygments_lexer": "ipython3",
   "version": "3.10.10"
  },
  "orig_nbformat": 4
 },
 "nbformat": 4,
 "nbformat_minor": 2
}
